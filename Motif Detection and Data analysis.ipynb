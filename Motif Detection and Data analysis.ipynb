{
 "cells": [
  {
   "cell_type": "code",
   "execution_count": 1,
   "id": "48c95e52",
   "metadata": {},
   "outputs": [],
   "source": [
    "import numpy as np\n",
    "import matplotlib.pyplot as plt\n",
    "import csv\n",
    "from itertools import permutations\n",
    "import networkx as nx"
   ]
  },
  {
   "cell_type": "code",
   "execution_count": 4,
   "id": "22452cc1",
   "metadata": {},
   "outputs": [
    {
     "data": {
      "text/plain": [
       "<networkx.classes.graph.Graph at 0x7fd220d49bb0>"
      ]
     },
     "execution_count": 4,
     "metadata": {},
     "output_type": "execute_result"
    }
   ],
   "source": [
    "A = np.array([[1, 1, 1],[-1,0,0],[0,1,0]])\n",
    "nx.from_numpy_matrix(A)"
   ]
  },
  {
   "cell_type": "code",
   "execution_count": 64,
   "id": "9f4f8675",
   "metadata": {},
   "outputs": [],
   "source": [
    "#Exhaustively list all possible configurations of the 3x3 adjacency matrix\n",
    "def find_ternary(num): \n",
    "    quotient = num/3    \n",
    "    remainder = num%3\n",
    "    if quotient == 0:   \n",
    "        return \"\"\n",
    "    else:\n",
    "        return find_ternary(int(quotient)) + str(int(remainder))\n",
    "\n",
    "adj_mats = np.zeros((19683,3,3)) #master list\n",
    "for i in range(19683):\n",
    "    ternary = np.array(list(map(int, find_ternary(i))))\n",
    "    adj_mats[i]=np.reshape(np.pad(ternary,(9-len(ternary),0),'constant'),(3,3))\n",
    "    adj_mats[i] = adj_mats[i] - np.ones((3,3))\n",
    "    "
   ]
  },
  {
   "cell_type": "code",
   "execution_count": 306,
   "id": "8a8b5a65",
   "metadata": {},
   "outputs": [
    {
     "name": "stdout",
     "output_type": "stream",
     "text": [
      "1458\n"
     ]
    }
   ],
   "source": [
    "#How many of the motifs fit the requirement of the output neuron being self-inhibitory and having exactly one incoming connection which is excitatory?\n",
    "foo = 0\n",
    "for i in range(19683):\n",
    "    if adj_mats[i,2,2] == -1: #inhibitory self-connection\n",
    "        if adj_mats[i,0,2] + adj_mats[i,1,2] == 1: #exactly one incoming excitatory connection\n",
    "            foo += 1\n",
    "print(foo)"
   ]
  },
  {
   "cell_type": "code",
   "execution_count": 139,
   "id": "b1610ace",
   "metadata": {},
   "outputs": [],
   "source": [
    "def lookupclass(matrices,matrix):\n",
    "    for i in range(len(matrices)):\n",
    "        for j in range(len(matrices[i])):\n",
    "            if (matrices[i,j]==matrix).all():\n",
    "                return i\n",
    "    else: #if you can't find that matrix in the list of matrices\n",
    "        return \"n\""
   ]
  },
  {
   "cell_type": "code",
   "execution_count": 169,
   "id": "7b75af21",
   "metadata": {},
   "outputs": [],
   "source": [
    "#partition into equivalence classes\n",
    "partition = np.ones((3411,100,3,3))*3 #make it full of threes so that you can't falsely locate the zeros matrix everywhere\n",
    "\n",
    "rearrangements = [[0,1,2],[0,2,1],[1,0,2],[1,2,0],[2,1,0],[2,0,1]]#list of possible equivalant neuron rearrangements (including original)\n",
    "\n",
    "classcounter = 0 #keep track of what class we're on \n",
    "for i in range(len(adj_mats)):\n",
    "    #print(adj_mats[i])\n",
    "    if lookupclass(partition,adj_mats[i]) != 'n': #if we can already locate the matrix in the partition\n",
    "        pass\n",
    "    else: #if we can't\n",
    "        elementcounter = 0 #keep track of where in the class we're adding\n",
    "        for j in range(6):\n",
    "            test = adj_mats[i][rearrangements[j],:] #rearrange rows\n",
    "            test = test[:,rearrangements[j]] #rearrange columns\n",
    "            if lookupclass(partition, test) == 'n':\n",
    "                partition[classcounter,elementcounter]=test #and each of its equivalent permutations one by one\n",
    "                elementcounter+=1\n",
    "        classcounter += 1\n",
    "        \n"
   ]
  },
  {
   "cell_type": "code",
   "execution_count": 279,
   "id": "86263765",
   "metadata": {},
   "outputs": [
    {
     "name": "stdout",
     "output_type": "stream",
     "text": [
      "[[ 1.  1.  0.]\n",
      " [ 1.  1. -1.]\n",
      " [-1. -1. -1.]]\n"
     ]
    },
    {
     "data": {
      "text/plain": [
       "188"
      ]
     },
     "execution_count": 279,
     "metadata": {},
     "output_type": "execute_result"
    }
   ],
   "source": [
    "#Lookup of a threegroup\n",
    "\n",
    "genome=np.reshape(and_genomes[10],(5,5))\n",
    "new = genome[2:5,2:5]\n",
    "new1 = np.ones((3,3))\n",
    "print(new)\n",
    "lookupclass(partition,new)\n"
   ]
  },
  {
   "cell_type": "code",
   "execution_count": 281,
   "id": "b3622948",
   "metadata": {},
   "outputs": [
    {
     "name": "stdout",
     "output_type": "stream",
     "text": [
      "[[-1. -1.  1.]\n",
      " [ 1.  0.  0.]\n",
      " [ 0.  1. -1.]]\n"
     ]
    }
   ],
   "source": [
    "visualizeclass(1440,rep_classmembers) \n",
    "\n",
    "test1 = np.array([[0,1,0],[0,0,1],)\n",
    "\n",
    "[0. 1. 0.],[0. 0. 1.],[-1. -1. -1.]\n",
    "[0. 1. 0.],[0. 0. 1.],[ 0. -1. -1.]\n",
    "[0. 1. 0.],[ 1. -1.  1.],[-1.  0. -1.]\n",
    "[0. 1. 0.],[1. 0. 1.],[-1. -1. -1.]\n",
    "[0. 1. 1.],[ 1. -1.  0.],[-1. -1. -1.]"
   ]
  },
  {
   "cell_type": "code",
   "execution_count": 186,
   "id": "0e53a3be",
   "metadata": {},
   "outputs": [],
   "source": [
    "#scratch cell\n",
    "#a = np.tile([1,2,3,4,5],(4,1))\n",
    "a = np.array([[0,-1,0,1],[0,0,-1,1],[-1,1,1,1],[1,1,1,1]])\n",
    "new = a[[1,2,3]]\n",
    "new = new[:,[1,2,3]]"
   ]
  },
  {
   "cell_type": "code",
   "execution_count": 232,
   "id": "51fc8227",
   "metadata": {},
   "outputs": [],
   "source": [
    "#for each successful genome, test every combination of three cells and collect its motif class\n",
    "#output the counts of each as a 3411 element array\n",
    "\n",
    "#every combination of three indices, from 0 to 24 (for a 5-neuron CTRNN)\n",
    "combs = list(permutations(np.arange(5),3))\n",
    "\n",
    "def motifcount(genome): \n",
    "    weightmatrix = np.reshape(genome,(5,5))\n",
    "    motifdist = np.zeros(3411)\n",
    "    for i in range(len(combs)): \n",
    "        comb = list(combs[i])\n",
    "        threegroup = weightmatrix[comb] #remove unnecessary rows\n",
    "        threegroup = threegroup[:,comb]  #remove unnecessary columns\n",
    "        motif = lookupclass(partition,threegroup)\n",
    "        motifdist[motif] += 1\n",
    "    return motifdist     \n"
   ]
  },
  {
   "cell_type": "code",
   "execution_count": 250,
   "id": "16a86c2f",
   "metadata": {},
   "outputs": [
    {
     "name": "stdout",
     "output_type": "stream",
     "text": [
      "[ 0. -1. -1. -1. -1.  1.  1.  0.  1. -1.  0.  1. -1.  0. -1.  0. -1. -1.\n",
      "  0.  0.  1. -1. -1. -1. -1.] done\n",
      "[ 1.  1.  0.  1. -1. -1. -1. -1.  1.  1.  0. -1. -1.  1. -1.  1. -1.  1.\n",
      "  1. -1.  0. -1.  0.  1.  0.] done\n",
      "[-1.  0. -1.  0.  1. -1.  1. -1. -1.  1. -1.  1.  0. -1. -1.  0. -1. -1.\n",
      "  1.  0. -1.  1.  0.  0. -1.] done\n",
      "[-1.  1.  1. -1.  0.  1. -1.  0.  1. -1.  0.  0. -1.  0.  1.  0.  1. -1.\n",
      " -1.  0.  1.  0.  1.  0. -1.] done\n",
      "[-1. -1. -1. -1. -1. -1.  1.  0. -1.  1. -1.  1.  1. -1. -1.  1.  0.  0.\n",
      "  1.  0. -1.  1.  0. -1.  1.] done\n",
      "[-1.  0. -1. -1. -1.  1. -1.  1. -1.  0.  0. -1. -1.  0.  1.  0.  0.  0.\n",
      "  1. -1.  0.  0.  1.  1.  1.] done\n",
      "[-1.  0.  1.  1.  1.  0. -1. -1. -1. -1.  1.  1.  1. -1.  0. -1.  0.  1.\n",
      "  0. -1. -1. -1.  1. -1.  0.] done\n",
      "[-1.  1. -1.  1. -1. -1. -1.  0. -1.  0.  0. -1.  0.  0. -1. -1. -1. -1.\n",
      "  0. -1.  1.  1. -1. -1. -1.] done\n",
      "[ 1.  1.  1.  1.  0. -1. -1.  0.  0.  1. -1.  0.  1.  0.  1.  1.  1.  1.\n",
      "  0. -1.  0.  0.  0.  1. -1.] done\n",
      "[ 0. -1.  0.  1.  0.  1. -1.  0.  1.  0.  0.  0.  1.  0.  1.  0.  0. -1.\n",
      "  0. -1.  0. -1.  0. -1. -1.] done\n",
      "[ 1. -1.  0. -1.  1.  0.  0. -1.  0.  1.  0.  0. -1.  1.  0.  1.  0. -1.\n",
      " -1.  0. -1.  1. -1.  1.  1.] done\n",
      "[ 0. -1. -1. -1.  1.  0. -1.  0. -1. -1.  1. -1.  0.  0.  1. -1. -1. -1.\n",
      "  0. -1. -1. -1.  0. -1. -1.] done\n",
      "[ 1.  0.  1.  1. -1.  0.  0.  0. -1.  0.  1.  0.  0. -1.  0.  1.  0.  1.\n",
      "  0. -1. -1.  0.  1.  0.  0.] done\n",
      "[ 1.  0.  1.  0. -1.  1. -1. -1.  1.  0.  0.  1.  0. -1.  1.  0. -1.  0.\n",
      "  0. -1. -1.  0.  0.  1.  1.] done\n",
      "[ 0.  0. -1.  0.  1. -1. -1. -1.  1.  1.  0. -1. -1. -1.  1.  1.  0.  1.\n",
      " -1.  1. -1.  0.  0.  1. -1.] done\n",
      "[-1. -1.  0. -1. -1. -1.  0.  0.  0. -1.  0.  1.  1. -1.  0. -1.  1.  1.\n",
      "  1. -1.  0.  0.  0.  1.  1.] done\n",
      "[ 1.  0. -1. -1.  1. -1.  1.  0.  1. -1. -1. -1.  0. -1.  0. -1.  1.  0.\n",
      "  0.  0.  1.  1.  1. -1.  0.] done\n",
      "[ 1. -1.  1.  0. -1.  1. -1. -1. -1.  0. -1.  1.  0. -1. -1.  1. -1.  1.\n",
      "  0. -1.  1. -1. -1.  1.  0.] done\n",
      "[-1. -1.  0. -1.  0. -1.  0. -1.  0. -1.  1.  0. -1.  0. -1. -1. -1. -1.\n",
      "  0.  1.  1. -1.  1.  1. -1.] done\n",
      "[-1.  0.  0. -1. -1. -1.  1.  0.  0.  1.  1. -1.  1.  1. -1.  0.  1.  0.\n",
      " -1.  0.  0.  1.  0.  0.  1.] done\n",
      "[ 1.  1.  1. -1.  1.  1. -1.  1. -1. -1. -1. -1.  0.  0.  1.  0.  0. -1.\n",
      " -1. -1.  1. -1. -1.  1.  0.] done\n",
      "[-1. -1.  1.  1.  1.  1. -1.  1.  1. -1. -1.  0. -1. -1.  1.  1.  1.  0.\n",
      "  1.  1.  1.  0. -1. -1.  0.] done\n",
      "[ 0.  0.  0. -1.  1.  0. -1.  1.  1.  1.  1. -1.  0.  1.  0.  0.  1.  0.\n",
      "  1. -1. -1.  1. -1.  1.  0.] done\n",
      "[ 0.  1.  1.  0. -1. -1.  0.  1. -1. -1. -1.  0.  1.  1.  1.  1. -1. -1.\n",
      "  0. -1.  0. -1.  0.  0.  1.] done\n",
      "[ 0.  0.  1.  1.  0. -1.  1.  0.  0.  0. -1. -1.  1.  0.  1.  1.  1. -1.\n",
      " -1.  0. -1.  0. -1.  1.  1.] done\n",
      "[-1.  1.  1.  0.  1. -1. -1.  0. -1. -1.  1.  0.  0. -1. -1. -1. -1.  1.\n",
      "  1.  1.  1. -1.  1. -1. -1.] done\n",
      "[-1. -1.  1. -1.  1. -1.  1.  1.  1.  1. -1. -1.  1.  1.  0.  1.  1.  0.\n",
      "  0.  0. -1.  1. -1. -1.  0.] done\n",
      "[ 1. -1.  1.  0. -1.  1.  1.  1.  0.  0.  0.  0. -1. -1. -1.  0. -1.  0.\n",
      " -1.  0.  1.  0. -1. -1.  1.] done\n",
      "[ 1.  1.  0. -1.  1.  1. -1.  0.  1.  1. -1. -1.  1. -1. -1. -1.  1.  0.\n",
      "  0.  1.  0.  0. -1. -1.  1.] done\n",
      "[-1. -1.  1. -1. -1.  1. -1.  0. -1.  0.  0. -1.  0. -1.  0.  1. -1.  1.\n",
      "  0. -1.  0. -1. -1. -1.  1.] done\n",
      "[-1.  0.  0.  1. -1. -1.  1.  0.  0. -1.  1. -1.  0.  1. -1.  1.  1.  1.\n",
      "  0.  1.  0.  1.  0.  0. -1.] done\n",
      "[-1. -1.  1.  0. -1.  1. -1.  0.  1.  0.  1.  0.  0.  0.  1. -1.  0.  1.\n",
      "  1.  1.  0. -1.  0.  1.  1.] done\n",
      "[ 1. -1.  1. -1.  1.  1. -1. -1.  1.  1.  0.  1.  1. -1.  1. -1.  1.  1.\n",
      "  0.  0. -1. -1.  1. -1.  0.] done\n",
      "[ 1.  1. -1. -1.  1.  0.  1. -1. -1. -1. -1.  0.  0.  0.  0. -1.  1.  0.\n",
      "  1. -1.  0.  1. -1.  1. -1.] done\n",
      "[-1.  1.  1.  1.  0.  1. -1. -1. -1.  1.  0. -1. -1. -1. -1.  1.  0. -1.\n",
      " -1.  1.  1.  0.  1.  0. -1.] done\n",
      "[ 0.  0. -1.  0.  0.  0. -1.  0.  1.  0.  1.  1.  1.  0.  0.  0. -1. -1.\n",
      " -1. -1.  0.  1.  1.  1.  1.] done\n",
      "[ 1. -1.  0. -1.  0.  1.  1.  0.  0.  0. -1.  1.  0.  1. -1. -1. -1.  1.\n",
      "  0. -1.  1.  1.  0.  1.  0.] done\n",
      "[-1. -1. -1. -1.  1.  0. -1.  1. -1. -1.  0.  1.  1.  1.  1. -1. -1. -1.\n",
      "  1.  0.  1. -1.  1.  1.  1.] done\n",
      "[-1.  1. -1. -1.  1. -1.  0.  1. -1. -1. -1.  0.  1.  0.  1.  1. -1.  0.\n",
      " -1.  1.  0. -1. -1. -1.  1.] done\n",
      "[ 0. -1.  1.  1.  1. -1. -1.  1.  1.  1. -1. -1. -1. -1.  1.  0.  0. -1.\n",
      " -1.  1.  0.  0.  1. -1. -1.] done\n",
      "[ 1.  0. -1.  1. -1.  1.  0.  1. -1. -1. -1. -1. -1.  0.  0.  0. -1.  1.\n",
      "  1. -1.  0.  0.  1. -1. -1.] done\n",
      "[-1.  1. -1.  1.  1.  0.  1. -1. -1.  1.  0.  1.  0.  0.  1.  0. -1.  0.\n",
      "  0.  1.  1.  0. -1.  1.  1.] done\n",
      "[-1. -1.  0.  0.  1. -1.  0.  1.  1.  1.  0.  0.  0.  1. -1.  1.  0. -1.\n",
      "  1. -1.  1.  0.  1. -1. -1.] done\n",
      "[ 0.  1. -1.  1.  1. -1.  0.  1. -1.  0. -1.  0. -1.  0.  1. -1. -1.  0.\n",
      "  0.  0. -1.  1.  1.  0.  0.] done\n",
      "[ 1.  1.  1.  0. -1. -1.  1.  1.  0.  0.  1.  0. -1.  1.  0. -1. -1. -1.\n",
      "  1. -1. -1.  1. -1.  0. -1.] done\n",
      "[-1. -1.  0.  1. -1. -1.  0.  0.  0. -1.  1. -1.  0.  0.  1.  0. -1. -1.\n",
      "  1.  1.  0. -1. -1. -1.  0.] done\n",
      "[ 1.  1. -1.  0.  1. -1.  0.  0.  1. -1.  1.  0. -1.  1.  0. -1. -1.  0.\n",
      "  0. -1.  0.  0. -1.  0. -1.] done\n",
      "[ 0. -1. -1. -1.  0.  0.  0. -1.  1.  1. -1.  0. -1. -1. -1.  0. -1. -1.\n",
      "  1. -1.  0.  0. -1.  0. -1.] done\n",
      "[ 0.  0. -1. -1. -1.  1.  0.  1.  1.  0. -1.  0. -1. -1. -1. -1. -1.  1.\n",
      "  0.  0. -1.  0.  1.  0.  1.] done\n",
      "[ 1.  0.  0. -1.  0.  0. -1.  1.  0. -1.  1.  0. -1.  0.  0.  0. -1.  0.\n",
      "  1. -1. -1. -1.  1.  1. -1.] done\n",
      "[ 1. -1. -1.  1. -1.  0.  1.  0.  0. -1.  0.  0. -1.  1.  1.  1. -1.  0.\n",
      "  1. -1.  0.  0. -1. -1. -1.] done\n",
      "[ 0.  1.  1. -1.  0. -1.  1. -1. -1.  0. -1. -1. -1.  0.  1.  0.  1. -1.\n",
      " -1.  1.  1.  1.  0.  0.  1.] done\n",
      "[-1.  0. -1.  1.  1.  0.  1.  1.  0. -1. -1. -1.  0.  0. -1. -1.  1.  0.\n",
      " -1.  1. -1. -1.  1. -1.  1.] done\n",
      "[ 0.  0. -1. -1.  0.  1. -1. -1. -1. -1.  0. -1. -1.  1.  0. -1. -1.  1.\n",
      "  0. -1.  0.  1.  0.  1.  0.] done\n",
      "[ 1. -1.  1. -1.  1.  1.  1.  1.  1. -1.  0.  0.  1. -1. -1.  0. -1.  1.\n",
      "  1. -1. -1.  1.  1.  1. -1.] done\n",
      "[ 1.  0. -1.  1.  0.  0.  1.  1.  0.  0.  0.  1.  1.  0. -1.  1.  0. -1.\n",
      " -1. -1.  0. -1.  1.  0.  0.] done\n",
      "[-1. -1. -1. -1.  1.  0.  0.  0.  1.  1. -1. -1.  0.  0.  0.  1.  0. -1.\n",
      "  0.  1.  1.  1. -1. -1. -1.] done\n",
      "[-1.  1.  1.  1. -1. -1.  1. -1.  0.  1. -1.  0.  1. -1.  0.  0. -1. -1.\n",
      " -1.  0.  1.  0.  0.  0.  1.] done\n",
      "[-1.  1. -1.  0.  1. -1.  1. -1.  1. -1.  0.  1.  1. -1. -1.  0.  0.  0.\n",
      "  0. -1.  0.  0. -1.  1. -1.] done\n"
     ]
    }
   ],
   "source": [
    "#load in genome data sets and run counter\n",
    "random_genomes = np.genfromtxt('59randomgenomes.csv', delimiter=',')\n",
    "countdata = np.zeros((len(random_genomes),3411))\n",
    "for i in range(len(random_genomes)):\n",
    "    countdata[i] = motifcount(random_genomes[i])\n",
    "    print(random_genomes[i],'done')"
   ]
  },
  {
   "cell_type": "code",
   "execution_count": 249,
   "id": "ade0c4df",
   "metadata": {},
   "outputs": [],
   "source": [
    "#aggregate data of motif counts to find most common motifs across data set\n",
    "agg_countdata = np.sum(countdata, axis = 0)/6  #divide by 6 because the algorithm will count the same motif spread across the same 3 neurons in every permutation (6 possible)\n",
    "#for i in range(len(agg_countdata)):\n",
    "    #print(agg_countdata[i])\n",
    "\n",
    "#Save aggregate motif count data to a csv file\n",
    "with open('32random_agg_countdata.csv', 'w', newline='') as csvfile:\n",
    "    writer = csv.writer(csvfile)\n",
    "    writer.writerows([str(int(x)) for x in agg_countdata])"
   ]
  },
  {
   "cell_type": "code",
   "execution_count": null,
   "id": "fbc3626b",
   "metadata": {},
   "outputs": [],
   "source": [
    "#collect each class's exemplary member\n",
    "rep_classmembers = partition[:,0]"
   ]
  },
  {
   "cell_type": "code",
   "execution_count": 241,
   "id": "81280fbe",
   "metadata": {},
   "outputs": [
    {
     "name": "stdout",
     "output_type": "stream",
     "text": [
      "[[[-1. -1.  0.]\n",
      "  [-1.  0.  1.]\n",
      "  [-1.  0. -1.]]\n",
      "\n",
      " [[-1. -1.  0.]\n",
      "  [ 1. -1.  0.]\n",
      "  [ 0.  1.  0.]]\n",
      "\n",
      " [[-1. -1.  1.]\n",
      "  [-1.  1. -1.]\n",
      "  [ 0.  1. -1.]]\n",
      "\n",
      " [[-1.  1.  1.]\n",
      "  [-1.  0. -1.]\n",
      "  [ 1.  1.  0.]]]\n"
     ]
    }
   ],
   "source": [
    "#back-calculate the representative motif from the class based on index\n",
    "def visualizeclass(index,rep_classmembers):\n",
    "    print(rep_classmembers[index])\n",
    "    \n",
    "visualizeclass([ 466,  821, 1103, 2212],rep_classmembers)    "
   ]
  },
  {
   "cell_type": "code",
   "execution_count": 258,
   "id": "42abe85d",
   "metadata": {},
   "outputs": [],
   "source": [
    "#Find the successful OR motifs' indecies\n",
    "ORmotifs = [[[-1., -1.,  1.],[ 1., -1.,  0.],[ 0.,  1., -1.]],\n",
    "[[-1., -1.,  1.],[1., 0., 0.],[ 0.,  0., -1.]],\n",
    "[[-1., -1.,  1.],[1., 0. ,0.],[ 0.,  1., -1.]],\n",
    "[[-1., -1.,  1.],[1., 1., 0.],[ 0., -1., -1.]],\n",
    "[[-1., -1.,  1.],[1., 1., 0.],[ 0.,  0., -1.]],\n",
    "[[-1.,  0.,  1.],[ 1., -1.,  0.],[ 0.,  0., -1.]],\n",
    "[[-1.,  0.,  1.],[ 1., -1.,  0.],[ 0.,  1., -1.]],\n",
    "[[-1.,  0.,  1.],[1., 0., 0.],[ 0., -1., -1.]],\n",
    "[[-1.,  0.,  1.],[1., 0., 0.],[ 0.,  0., -1.]],\n",
    "[[-1.,  0.,  1.],[1., 1., 0.],[ 0., -1., -1.]],\n",
    "[[-1.,  1.,  0.],[-1., -1.,  1.],[ 1.,  0., -1.]],\n",
    "[[-1.,  1.,  0.],[-1.,  0.,  1.],[ 1., -1., -1.]],\n",
    "[[-1.,  1.,  0.],[ 0., -1.,  1.],[ 0.,  0., -1.]],\n",
    "[[-1.,  1.,  0.],[ 0., -1.,  1.],[ 1.,  0., -1.]],\n",
    "[[-1.,  1.,  0.],[0., 0., 1.],[ 0., -1., -1.]],\n",
    "[[-1.,  1.,  0.],[0., 0., 1.],[ 1., -1., -1.]],\n",
    "[[-1.,  1.,  0.],[ 1., -1.,  1.],[-1.,  0., -1.]],\n",
    "[[-1.,  1.,  0.],[ 1., -1.,  1.],[ 0.,  0., -1.]],\n",
    "[[-1.,  1.,  0.],[1., 0., 1.],[-1., -1., -1.]],\n",
    "[[-1.,  1.,  0.],[1., 0., 1.],[ 0., -1., -1.]],\n",
    "[[-1.,  1.,  1.],[ 1., -1.,  0.],[ 0., -1., -1.]],\n",
    "[[-1.,  1.,  1.],[ 1., -1.,  0.],[ 0.,  0., -1.]],\n",
    "[[-1.,  1.,  1.],[1., 0., 0.],[ 0., -1., -1.]],\n",
    "[[ 0., -1.,  1.],[ 1., -1.,  0.],[-1.,  1., -1.]],\n",
    "[[ 0., -1.,  1.],[1. ,0., 0.],[-1.,  0., -1.]],\n",
    "[[ 0., -1.,  1.],[1. ,0., 0.],[-1.,  1., -1.]],\n",
    "[[ 0., -1.,  1.],[1. ,1., 0.],[-1., -1., -1.]],\n",
    "[[ 0., -1.,  1.],[1. ,1., 0.],[-1.,  0., -1.]],\n",
    "[[0. ,0., 1.],[ 1., -1.,  0.],[-1.,  0., -1.]],\n",
    "[[0. ,0., 1.],[ 1., -1.,  0.],[-1.,  1., -1.]],\n",
    "[[0. ,0., 1.],[1., 0., 0.],[-1., -1., -1.]],\n",
    "[[0. ,0., 1.],[1., 0., 0.],[-1.,  0., -1.]],\n",
    "[[0. ,0., 1.],[1., 1., 0.],[-1., -1., -1.]],\n",
    "[[0. ,1., 0.],[-1., -1.,  1.],[ 0.,  0., -1.]],\n",
    "[[0. ,1., 0.],[-1., -1.,  1.],[ 1.,  0., -1.]],\n",
    "[[0. ,1., 0.],[-1.,  0.,  1.],[ 0., -1., -1.]],\n",
    "[[0. ,1., 0.],[-1.,  0.,  1.],[ 1., -1., -1.]],\n",
    "[[0. ,1., 0.],[ 0., -1.,  1.],[-1.,  0., -1.]],\n",
    "[[0. ,1., 0.],[ 0., -1.,  1.],[ 0.,  0., -1.]],\n",
    "[[0. ,1., 0.],[0., 0., 1.],[-1., -1., -1.]],\n",
    "[[0. ,1., 0.],[0., 0., 1.],[ 0., -1., -1.]],\n",
    "[[0. ,1., 0.],[ 1., -1.,  1.],[-1.,  0., -1.]],\n",
    "[[0. ,1., 0.],[1. ,0., 1.],[-1., -1., -1.]],\n",
    "[[0. ,1., 1.],[ 1. ,-1.,  0.],[-1., -1., -1.]],\n",
    "[[0. ,1., 1.],[ 1. ,-1.,  0.],[-1.,  0., -1.]],\n",
    "[[0. ,1., 1.],[1. ,0., 0.],[-1., -1., -1.]],\n",
    "[[1. ,1., 0.],[-1., -1.,  1.],[-1.,  0., -1.]],\n",
    "[[1. ,1., 0.],[-1., -1.,  1.],[ 0.,  0., -1.]],\n",
    "[[1. ,1., 0.],[-1.,  0.,  1.],[-1., -1., -1.]],\n",
    "[[1. ,1., 0.],[-1.,  0.,  1.],[ 0., -1., -1.]],\n",
    "[[1. ,1., 0.],[ 0., -1.,  1.],[-1.,  0., -1.]],\n",
    "[[1. ,1., 0.],[0., 0., 1.],[-1., -1., -1.]]]\n",
    "ORmotifs = np.array(ORmotifs)\n"
   ]
  },
  {
   "cell_type": "code",
   "execution_count": 301,
   "id": "e7c989f3",
   "metadata": {},
   "outputs": [
    {
     "name": "stdout",
     "output_type": "stream",
     "text": [
      "164 140 164\n"
     ]
    }
   ],
   "source": [
    "flatORmotifs = np.reshape(ORmotifs,(1,52*9))[0]\n",
    "ormotifsneg1s = 0\n",
    "ormotifs1s = 0\n",
    "ormotifs0s = 0\n",
    "for i in range(52*9):\n",
    "    if flatORmotifs[i] == 0.:\n",
    "        ormotifs0s += 1\n",
    "    if flatORmotifs[i] == 1.:\n",
    "        ormotifs1s += 1\n",
    "    if flatORmotifs[i] ==-1.:\n",
    "        ormotifsneg1s += 1\n",
    "print(ormotifsneg1s,ormotifs1s,ormotifs0s)    "
   ]
  },
  {
   "cell_type": "code",
   "execution_count": 303,
   "id": "529f3c49",
   "metadata": {},
   "outputs": [
    {
     "name": "stdout",
     "output_type": "stream",
     "text": [
      "35.0\n"
     ]
    },
    {
     "data": {
      "text/plain": [
       "41.0"
      ]
     },
     "execution_count": 303,
     "metadata": {},
     "output_type": "execute_result"
    }
   ],
   "source": [
    "print(140/4)\n",
    "164/4\n"
   ]
  },
  {
   "cell_type": "code",
   "execution_count": 282,
   "id": "aba3d7a4",
   "metadata": {},
   "outputs": [
    {
     "name": "stdout",
     "output_type": "stream",
     "text": [
      "[[-1. -1.  1.]\n",
      " [ 1.  0.  0.]\n",
      " [ 0.  1. -1.]]\n",
      "[[-1.  1.  0.]\n",
      " [ 0.  0.  1.]\n",
      " [ 1. -1. -1.]]\n",
      "[[ 0.  0.  1.]\n",
      " [ 1. -1.  0.]\n",
      " [-1.  1. -1.]]\n",
      "[[ 0.  1.  0.]\n",
      " [-1. -1.  1.]\n",
      " [ 1.  0. -1.]]\n"
     ]
    }
   ],
   "source": [
    "ORmotifindecies = []\n",
    "for i in range(len(ORmotifs)):\n",
    "    ORmotifindecies.append(lookupclass(partition,ORmotifs[i]))\n",
    "    if lookupclass(partition,ORmotifs[i])==1440:\n",
    "        print(ORmotifs[i])\n",
    "    \n",
    "ORmotifindecies.sort()"
   ]
  },
  {
   "cell_type": "code",
   "execution_count": 284,
   "id": "5be4a370",
   "metadata": {},
   "outputs": [
    {
     "name": "stdout",
     "output_type": "stream",
     "text": [
      "[247, 247, 286, 286, 289, 289, 316, 316, 319, 319, 633, 633, 704, 704, 707, 707, 775, 775, 778, 778, 870, 870, 871, 871, 893, 893, 894, 894, 918, 918, 1373, 1373, 1418, 1418, 1419, 1419, 1437, 1437, 1440, 1440, 1440, 1440, 1504, 1504, 1676, 1676, 1679, 1679, 1715, 1715, 2053, 2053]\n"
     ]
    }
   ],
   "source": [
    "print(ORmotifindecies)"
   ]
  },
  {
   "cell_type": "code",
   "execution_count": 285,
   "id": "6ace7fc2",
   "metadata": {},
   "outputs": [
    {
     "name": "stdout",
     "output_type": "stream",
     "text": [
      "[[[-1. -1. -1.]\n",
      "  [-1.  1. -1.]\n",
      "  [ 1.  0.  0.]]\n",
      "\n",
      " [[-1. -1. -1.]\n",
      "  [-1.  1.  0.]\n",
      "  [ 0. -1.  1.]]\n",
      "\n",
      " [[-1. -1.  0.]\n",
      "  [ 1. -1. -1.]\n",
      "  [-1.  1. -1.]]\n",
      "\n",
      " [[-1. -1.  0.]\n",
      "  [ 1.  1.  0.]\n",
      "  [ 1.  0.  1.]]\n",
      "\n",
      " [[-1. -1.  1.]\n",
      "  [ 0. -1.  0.]\n",
      "  [-1.  0.  1.]]\n",
      "\n",
      " [[-1. -1.  1.]\n",
      "  [ 0.  1. -1.]\n",
      "  [-1.  0.  1.]]\n",
      "\n",
      " [[-1. -1.  1.]\n",
      "  [ 1.  0.  0.]\n",
      "  [-1. -1.  1.]]\n",
      "\n",
      " [[-1.  0.  1.]\n",
      "  [ 0.  1.  0.]\n",
      "  [ 1.  1.  0.]]\n",
      "\n",
      " [[-1.  0.  1.]\n",
      "  [ 1. -1.  0.]\n",
      "  [ 0.  1.  1.]]\n",
      "\n",
      " [[ 0. -1.  0.]\n",
      "  [-1.  1.  0.]\n",
      "  [-1.  1.  0.]]\n",
      "\n",
      " [[ 0.  0.  0.]\n",
      "  [-1.  1. -1.]\n",
      "  [ 0. -1.  1.]]\n",
      "\n",
      " [[ 0.  0.  1.]\n",
      "  [ 0.  1.  1.]\n",
      "  [ 1. -1.  1.]]]\n"
     ]
    }
   ],
   "source": [
    "ANDlist = [154,163,788,974,1166,1285,1430,2028,2055,2592,3011,3169]\n",
    "visualizeclass(ANDlist,rep_classmembers)"
   ]
  },
  {
   "cell_type": "code",
   "execution_count": 287,
   "id": "4f6048be",
   "metadata": {},
   "outputs": [
    {
     "name": "stdout",
     "output_type": "stream",
     "text": [
      "316\n",
      "316\n",
      "778\n",
      "778\n",
      "894\n",
      "894\n",
      "1676\n",
      "1676\n",
      "1715\n",
      "1715\n",
      "10.0\n"
     ]
    }
   ],
   "source": [
    "#Do any of the OR motifs show up in the larger OR circuits? The larger AND circuits?\n",
    "\n",
    "or_dist = np.genfromtxt('or_agg_countdata.csv', delimiter=',')\n",
    "and_dist = np.genfromtxt('and_agg_countdata.csv', delimiter=',')\n",
    "foo = 0\n",
    "for i in range(len(ORmotifindecies)):\n",
    "    if and_dist[ORmotifindecies[i]] != 0:\n",
    "        foo+=and_dist[ORmotifindecies[i]]\n",
    "        print(ORmotifindecies[i])\n",
    "print(foo)"
   ]
  },
  {
   "cell_type": "code",
   "execution_count": 290,
   "id": "6ab6eecb",
   "metadata": {},
   "outputs": [
    {
     "name": "stdout",
     "output_type": "stream",
     "text": [
      "52\n",
      "308\n"
     ]
    }
   ],
   "source": [
    "#How many of the motifs present in the large OR distribution are also present in the large AND distribution?\n",
    "foo = 0\n",
    "bar = 0\n",
    "for i in range(3411):\n",
    "    if and_dist[i] != 0:\n",
    "        bar += 1\n",
    "        if or_dist[i] != 0:\n",
    "            foo += 1\n",
    "print(foo) \n",
    "print(bar)"
   ]
  },
  {
   "cell_type": "code",
   "execution_count": 269,
   "id": "2d53cf7f",
   "metadata": {},
   "outputs": [
    {
     "data": {
      "text/plain": [
       "52"
      ]
     },
     "execution_count": 269,
     "metadata": {},
     "output_type": "execute_result"
    }
   ],
   "source": [
    "\n",
    "len(ORmotifindecies)"
   ]
  }
 ],
 "metadata": {
  "kernelspec": {
   "display_name": "Python 3",
   "language": "python",
   "name": "python3"
  },
  "language_info": {
   "codemirror_mode": {
    "name": "ipython",
    "version": 3
   },
   "file_extension": ".py",
   "mimetype": "text/x-python",
   "name": "python",
   "nbconvert_exporter": "python",
   "pygments_lexer": "ipython3",
   "version": "3.8.8"
  }
 },
 "nbformat": 4,
 "nbformat_minor": 5
}
