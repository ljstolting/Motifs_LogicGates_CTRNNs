{
 "cells": [
  {
   "cell_type": "code",
   "execution_count": 174,
   "id": "2d7a960d",
   "metadata": {},
   "outputs": [],
   "source": [
    "import numpy as np\n",
    "import matplotlib.pyplot as plt\n",
    "import csv\n",
    "from itertools import permutations"
   ]
  },
  {
   "cell_type": "code",
   "execution_count": 64,
   "id": "b0bd516d",
   "metadata": {},
   "outputs": [],
   "source": [
    "#Exhaustively list all possible configurations of the 3x3 adjacency matrix\n",
    "def find_ternary(num): \n",
    "    quotient = num/3    \n",
    "    remainder = num%3\n",
    "    if quotient == 0:   \n",
    "        return \"\"\n",
    "    else:\n",
    "        return find_ternary(int(quotient)) + str(int(remainder))\n",
    "\n",
    "adj_mats = np.zeros((19683,3,3)) #master list\n",
    "for i in range(19683):\n",
    "    ternary = np.array(list(map(int, find_ternary(i))))\n",
    "    adj_mats[i]=np.reshape(np.pad(ternary,(9-len(ternary),0),'constant'),(3,3))\n",
    "    adj_mats[i] = adj_mats[i] - np.ones((3,3))\n",
    "    "
   ]
  },
  {
   "cell_type": "code",
   "execution_count": 139,
   "id": "8f732eba",
   "metadata": {},
   "outputs": [],
   "source": [
    "def lookupclass(matrices,matrix):\n",
    "    for i in range(len(matrices)):\n",
    "        for j in range(len(matrices[i])):\n",
    "            if (matrices[i,j]==matrix).all():\n",
    "                return i\n",
    "    else: #if you can't find that matrix in the list of matrices\n",
    "        return \"n\""
   ]
  },
  {
   "cell_type": "code",
   "execution_count": 169,
   "id": "f9b68da8",
   "metadata": {},
   "outputs": [],
   "source": [
    "#partition into equivalence classes\n",
    "partition = np.ones((3411,100,3,3))*3 #make it full of threes so that you can't falsely locate the zeros matrix everywhere\n",
    "\n",
    "rearrangements = [[0,1,2],[0,2,1],[1,0,2],[1,2,0],[2,1,0],[2,0,1]]#list of possible equivalant neuron rearrangements (including original)\n",
    "\n",
    "classcounter = 0 #keep track of what class we're on \n",
    "for i in range(len(adj_mats)):\n",
    "    #print(adj_mats[i])\n",
    "    if lookupclass(partition,adj_mats[i]) != 'n': #if we can already locate the matrix in the partition\n",
    "        pass\n",
    "    else: #if we can't\n",
    "        elementcounter = 0 #keep track of where in the class we're adding\n",
    "        for j in range(6):\n",
    "            test = adj_mats[i][rearrangements[j],:] #rearrange rows\n",
    "            test = test[:,rearrangements[j]] #rearrange columns\n",
    "            if lookupclass(partition, test) == 'n':\n",
    "                partition[classcounter,elementcounter]=test #and each of its equivalent permutations one by one\n",
    "                elementcounter+=1\n",
    "        classcounter += 1\n",
    "        \n"
   ]
  },
  {
   "cell_type": "code",
   "execution_count": 187,
   "id": "baccd8b6",
   "metadata": {},
   "outputs": [
    {
     "data": {
      "text/plain": [
       "3007"
      ]
     },
     "execution_count": 187,
     "metadata": {},
     "output_type": "execute_result"
    }
   ],
   "source": [
    "#Lookup of a threegroup\n",
    "\n",
    "genome=np.reshape(and_genomes[10],(5,5))\n",
    "#lookupclass(partition,new)\n"
   ]
  },
  {
   "cell_type": "code",
   "execution_count": 186,
   "id": "72f2c110",
   "metadata": {},
   "outputs": [],
   "source": [
    "#scratch cell\n",
    "#a = np.tile([1,2,3,4,5],(4,1))\n",
    "a = np.array([[0,-1,0,1],[0,0,-1,1],[-1,1,1,1],[1,1,1,1]])\n",
    "new = a[[1,2,3]]\n",
    "new = new[:,[1,2,3]]"
   ]
  },
  {
   "cell_type": "code",
   "execution_count": 232,
   "id": "45da0156",
   "metadata": {},
   "outputs": [],
   "source": [
    "#for each successful genome, test every combination of three cells and collect its motif class\n",
    "#output the counts of each as a 3411 element array\n",
    "\n",
    "#every combination of three indices, from 0 to 24 (for a 5-neuron CTRNN)\n",
    "combs = list(permutations(np.arange(5),3))\n",
    "\n",
    "def motifcount(genome): \n",
    "    weightmatrix = np.reshape(genome,(5,5))\n",
    "    motifdist = np.zeros(3411)\n",
    "    for i in range(len(combs)): \n",
    "        comb = list(combs[i])\n",
    "        threegroup = weightmatrix[comb] #remove unnecessary rows\n",
    "        threegroup = threegroup[:,comb]  #remove unnecessary columns\n",
    "        motif = lookupclass(partition,threegroup)\n",
    "        motifdist[motif] += 1\n",
    "    return motifdist     \n"
   ]
  },
  {
   "cell_type": "code",
   "execution_count": 250,
   "id": "b14184c1",
   "metadata": {},
   "outputs": [
    {
     "name": "stdout",
     "output_type": "stream",
     "text": [
      "[ 0. -1. -1. -1. -1.  1.  1.  0.  1. -1.  0.  1. -1.  0. -1.  0. -1. -1.\n",
      "  0.  0.  1. -1. -1. -1. -1.] done\n",
      "[ 1.  1.  0.  1. -1. -1. -1. -1.  1.  1.  0. -1. -1.  1. -1.  1. -1.  1.\n",
      "  1. -1.  0. -1.  0.  1.  0.] done\n",
      "[-1.  0. -1.  0.  1. -1.  1. -1. -1.  1. -1.  1.  0. -1. -1.  0. -1. -1.\n",
      "  1.  0. -1.  1.  0.  0. -1.] done\n",
      "[-1.  1.  1. -1.  0.  1. -1.  0.  1. -1.  0.  0. -1.  0.  1.  0.  1. -1.\n",
      " -1.  0.  1.  0.  1.  0. -1.] done\n",
      "[-1. -1. -1. -1. -1. -1.  1.  0. -1.  1. -1.  1.  1. -1. -1.  1.  0.  0.\n",
      "  1.  0. -1.  1.  0. -1.  1.] done\n",
      "[-1.  0. -1. -1. -1.  1. -1.  1. -1.  0.  0. -1. -1.  0.  1.  0.  0.  0.\n",
      "  1. -1.  0.  0.  1.  1.  1.] done\n",
      "[-1.  0.  1.  1.  1.  0. -1. -1. -1. -1.  1.  1.  1. -1.  0. -1.  0.  1.\n",
      "  0. -1. -1. -1.  1. -1.  0.] done\n",
      "[-1.  1. -1.  1. -1. -1. -1.  0. -1.  0.  0. -1.  0.  0. -1. -1. -1. -1.\n",
      "  0. -1.  1.  1. -1. -1. -1.] done\n",
      "[ 1.  1.  1.  1.  0. -1. -1.  0.  0.  1. -1.  0.  1.  0.  1.  1.  1.  1.\n",
      "  0. -1.  0.  0.  0.  1. -1.] done\n",
      "[ 0. -1.  0.  1.  0.  1. -1.  0.  1.  0.  0.  0.  1.  0.  1.  0.  0. -1.\n",
      "  0. -1.  0. -1.  0. -1. -1.] done\n",
      "[ 1. -1.  0. -1.  1.  0.  0. -1.  0.  1.  0.  0. -1.  1.  0.  1.  0. -1.\n",
      " -1.  0. -1.  1. -1.  1.  1.] done\n",
      "[ 0. -1. -1. -1.  1.  0. -1.  0. -1. -1.  1. -1.  0.  0.  1. -1. -1. -1.\n",
      "  0. -1. -1. -1.  0. -1. -1.] done\n",
      "[ 1.  0.  1.  1. -1.  0.  0.  0. -1.  0.  1.  0.  0. -1.  0.  1.  0.  1.\n",
      "  0. -1. -1.  0.  1.  0.  0.] done\n",
      "[ 1.  0.  1.  0. -1.  1. -1. -1.  1.  0.  0.  1.  0. -1.  1.  0. -1.  0.\n",
      "  0. -1. -1.  0.  0.  1.  1.] done\n",
      "[ 0.  0. -1.  0.  1. -1. -1. -1.  1.  1.  0. -1. -1. -1.  1.  1.  0.  1.\n",
      " -1.  1. -1.  0.  0.  1. -1.] done\n",
      "[-1. -1.  0. -1. -1. -1.  0.  0.  0. -1.  0.  1.  1. -1.  0. -1.  1.  1.\n",
      "  1. -1.  0.  0.  0.  1.  1.] done\n",
      "[ 1.  0. -1. -1.  1. -1.  1.  0.  1. -1. -1. -1.  0. -1.  0. -1.  1.  0.\n",
      "  0.  0.  1.  1.  1. -1.  0.] done\n",
      "[ 1. -1.  1.  0. -1.  1. -1. -1. -1.  0. -1.  1.  0. -1. -1.  1. -1.  1.\n",
      "  0. -1.  1. -1. -1.  1.  0.] done\n",
      "[-1. -1.  0. -1.  0. -1.  0. -1.  0. -1.  1.  0. -1.  0. -1. -1. -1. -1.\n",
      "  0.  1.  1. -1.  1.  1. -1.] done\n",
      "[-1.  0.  0. -1. -1. -1.  1.  0.  0.  1.  1. -1.  1.  1. -1.  0.  1.  0.\n",
      " -1.  0.  0.  1.  0.  0.  1.] done\n",
      "[ 1.  1.  1. -1.  1.  1. -1.  1. -1. -1. -1. -1.  0.  0.  1.  0.  0. -1.\n",
      " -1. -1.  1. -1. -1.  1.  0.] done\n",
      "[-1. -1.  1.  1.  1.  1. -1.  1.  1. -1. -1.  0. -1. -1.  1.  1.  1.  0.\n",
      "  1.  1.  1.  0. -1. -1.  0.] done\n",
      "[ 0.  0.  0. -1.  1.  0. -1.  1.  1.  1.  1. -1.  0.  1.  0.  0.  1.  0.\n",
      "  1. -1. -1.  1. -1.  1.  0.] done\n",
      "[ 0.  1.  1.  0. -1. -1.  0.  1. -1. -1. -1.  0.  1.  1.  1.  1. -1. -1.\n",
      "  0. -1.  0. -1.  0.  0.  1.] done\n",
      "[ 0.  0.  1.  1.  0. -1.  1.  0.  0.  0. -1. -1.  1.  0.  1.  1.  1. -1.\n",
      " -1.  0. -1.  0. -1.  1.  1.] done\n",
      "[-1.  1.  1.  0.  1. -1. -1.  0. -1. -1.  1.  0.  0. -1. -1. -1. -1.  1.\n",
      "  1.  1.  1. -1.  1. -1. -1.] done\n",
      "[-1. -1.  1. -1.  1. -1.  1.  1.  1.  1. -1. -1.  1.  1.  0.  1.  1.  0.\n",
      "  0.  0. -1.  1. -1. -1.  0.] done\n",
      "[ 1. -1.  1.  0. -1.  1.  1.  1.  0.  0.  0.  0. -1. -1. -1.  0. -1.  0.\n",
      " -1.  0.  1.  0. -1. -1.  1.] done\n",
      "[ 1.  1.  0. -1.  1.  1. -1.  0.  1.  1. -1. -1.  1. -1. -1. -1.  1.  0.\n",
      "  0.  1.  0.  0. -1. -1.  1.] done\n",
      "[-1. -1.  1. -1. -1.  1. -1.  0. -1.  0.  0. -1.  0. -1.  0.  1. -1.  1.\n",
      "  0. -1.  0. -1. -1. -1.  1.] done\n",
      "[-1.  0.  0.  1. -1. -1.  1.  0.  0. -1.  1. -1.  0.  1. -1.  1.  1.  1.\n",
      "  0.  1.  0.  1.  0.  0. -1.] done\n",
      "[-1. -1.  1.  0. -1.  1. -1.  0.  1.  0.  1.  0.  0.  0.  1. -1.  0.  1.\n",
      "  1.  1.  0. -1.  0.  1.  1.] done\n",
      "[ 1. -1.  1. -1.  1.  1. -1. -1.  1.  1.  0.  1.  1. -1.  1. -1.  1.  1.\n",
      "  0.  0. -1. -1.  1. -1.  0.] done\n",
      "[ 1.  1. -1. -1.  1.  0.  1. -1. -1. -1. -1.  0.  0.  0.  0. -1.  1.  0.\n",
      "  1. -1.  0.  1. -1.  1. -1.] done\n",
      "[-1.  1.  1.  1.  0.  1. -1. -1. -1.  1.  0. -1. -1. -1. -1.  1.  0. -1.\n",
      " -1.  1.  1.  0.  1.  0. -1.] done\n",
      "[ 0.  0. -1.  0.  0.  0. -1.  0.  1.  0.  1.  1.  1.  0.  0.  0. -1. -1.\n",
      " -1. -1.  0.  1.  1.  1.  1.] done\n",
      "[ 1. -1.  0. -1.  0.  1.  1.  0.  0.  0. -1.  1.  0.  1. -1. -1. -1.  1.\n",
      "  0. -1.  1.  1.  0.  1.  0.] done\n",
      "[-1. -1. -1. -1.  1.  0. -1.  1. -1. -1.  0.  1.  1.  1.  1. -1. -1. -1.\n",
      "  1.  0.  1. -1.  1.  1.  1.] done\n",
      "[-1.  1. -1. -1.  1. -1.  0.  1. -1. -1. -1.  0.  1.  0.  1.  1. -1.  0.\n",
      " -1.  1.  0. -1. -1. -1.  1.] done\n",
      "[ 0. -1.  1.  1.  1. -1. -1.  1.  1.  1. -1. -1. -1. -1.  1.  0.  0. -1.\n",
      " -1.  1.  0.  0.  1. -1. -1.] done\n",
      "[ 1.  0. -1.  1. -1.  1.  0.  1. -1. -1. -1. -1. -1.  0.  0.  0. -1.  1.\n",
      "  1. -1.  0.  0.  1. -1. -1.] done\n",
      "[-1.  1. -1.  1.  1.  0.  1. -1. -1.  1.  0.  1.  0.  0.  1.  0. -1.  0.\n",
      "  0.  1.  1.  0. -1.  1.  1.] done\n",
      "[-1. -1.  0.  0.  1. -1.  0.  1.  1.  1.  0.  0.  0.  1. -1.  1.  0. -1.\n",
      "  1. -1.  1.  0.  1. -1. -1.] done\n",
      "[ 0.  1. -1.  1.  1. -1.  0.  1. -1.  0. -1.  0. -1.  0.  1. -1. -1.  0.\n",
      "  0.  0. -1.  1.  1.  0.  0.] done\n",
      "[ 1.  1.  1.  0. -1. -1.  1.  1.  0.  0.  1.  0. -1.  1.  0. -1. -1. -1.\n",
      "  1. -1. -1.  1. -1.  0. -1.] done\n",
      "[-1. -1.  0.  1. -1. -1.  0.  0.  0. -1.  1. -1.  0.  0.  1.  0. -1. -1.\n",
      "  1.  1.  0. -1. -1. -1.  0.] done\n",
      "[ 1.  1. -1.  0.  1. -1.  0.  0.  1. -1.  1.  0. -1.  1.  0. -1. -1.  0.\n",
      "  0. -1.  0.  0. -1.  0. -1.] done\n",
      "[ 0. -1. -1. -1.  0.  0.  0. -1.  1.  1. -1.  0. -1. -1. -1.  0. -1. -1.\n",
      "  1. -1.  0.  0. -1.  0. -1.] done\n",
      "[ 0.  0. -1. -1. -1.  1.  0.  1.  1.  0. -1.  0. -1. -1. -1. -1. -1.  1.\n",
      "  0.  0. -1.  0.  1.  0.  1.] done\n",
      "[ 1.  0.  0. -1.  0.  0. -1.  1.  0. -1.  1.  0. -1.  0.  0.  0. -1.  0.\n",
      "  1. -1. -1. -1.  1.  1. -1.] done\n",
      "[ 1. -1. -1.  1. -1.  0.  1.  0.  0. -1.  0.  0. -1.  1.  1.  1. -1.  0.\n",
      "  1. -1.  0.  0. -1. -1. -1.] done\n",
      "[ 0.  1.  1. -1.  0. -1.  1. -1. -1.  0. -1. -1. -1.  0.  1.  0.  1. -1.\n",
      " -1.  1.  1.  1.  0.  0.  1.] done\n",
      "[-1.  0. -1.  1.  1.  0.  1.  1.  0. -1. -1. -1.  0.  0. -1. -1.  1.  0.\n",
      " -1.  1. -1. -1.  1. -1.  1.] done\n",
      "[ 0.  0. -1. -1.  0.  1. -1. -1. -1. -1.  0. -1. -1.  1.  0. -1. -1.  1.\n",
      "  0. -1.  0.  1.  0.  1.  0.] done\n",
      "[ 1. -1.  1. -1.  1.  1.  1.  1.  1. -1.  0.  0.  1. -1. -1.  0. -1.  1.\n",
      "  1. -1. -1.  1.  1.  1. -1.] done\n",
      "[ 1.  0. -1.  1.  0.  0.  1.  1.  0.  0.  0.  1.  1.  0. -1.  1.  0. -1.\n",
      " -1. -1.  0. -1.  1.  0.  0.] done\n",
      "[-1. -1. -1. -1.  1.  0.  0.  0.  1.  1. -1. -1.  0.  0.  0.  1.  0. -1.\n",
      "  0.  1.  1.  1. -1. -1. -1.] done\n",
      "[-1.  1.  1.  1. -1. -1.  1. -1.  0.  1. -1.  0.  1. -1.  0.  0. -1. -1.\n",
      " -1.  0.  1.  0.  0.  0.  1.] done\n",
      "[-1.  1. -1.  0.  1. -1.  1. -1.  1. -1.  0.  1.  1. -1. -1.  0.  0.  0.\n",
      "  0. -1.  0.  0. -1.  1. -1.] done\n"
     ]
    }
   ],
   "source": [
    "#load in genome data sets and run counter\n",
    "random_genomes = np.genfromtxt('59randomgenomes.csv', delimiter=',')\n",
    "countdata = np.zeros((len(random_genomes),3411))\n",
    "for i in range(len(random_genomes)):\n",
    "    countdata[i] = motifcount(random_genomes[i])\n",
    "    print(random_genomes[i],'done')"
   ]
  },
  {
   "cell_type": "code",
   "execution_count": 249,
   "id": "5d7dd5cd",
   "metadata": {},
   "outputs": [],
   "source": [
    "#aggregate data of motif counts to find most common motifs across data set\n",
    "agg_countdata = np.sum(countdata, axis = 0)/6  #divide by 6 because the algorithm will count the same motif spread across the same 3 neurons in every permutation (6 possible)\n",
    "#for i in range(len(agg_countdata)):\n",
    "    #print(agg_countdata[i])\n",
    "\n",
    "#Save aggregate motif count data to a csv file\n",
    "with open('32random_agg_countdata.csv', 'w', newline='') as csvfile:\n",
    "    writer = csv.writer(csvfile)\n",
    "    writer.writerows([str(int(x)) for x in agg_countdata])"
   ]
  },
  {
   "cell_type": "code",
   "execution_count": null,
   "id": "b2ee96eb",
   "metadata": {},
   "outputs": [],
   "source": [
    "#collect each class's exemplary member\n",
    "rep_classmembers = partition[:,0]"
   ]
  },
  {
   "cell_type": "code",
   "execution_count": 241,
   "id": "9ff00f29",
   "metadata": {},
   "outputs": [
    {
     "name": "stdout",
     "output_type": "stream",
     "text": [
      "[[[-1. -1.  0.]\n",
      "  [-1.  0.  1.]\n",
      "  [-1.  0. -1.]]\n",
      "\n",
      " [[-1. -1.  0.]\n",
      "  [ 1. -1.  0.]\n",
      "  [ 0.  1.  0.]]\n",
      "\n",
      " [[-1. -1.  1.]\n",
      "  [-1.  1. -1.]\n",
      "  [ 0.  1. -1.]]\n",
      "\n",
      " [[-1.  1.  1.]\n",
      "  [-1.  0. -1.]\n",
      "  [ 1.  1.  0.]]]\n"
     ]
    }
   ],
   "source": [
    "#back-calculate the representative motif from the class based on index\n",
    "def visualizeclass(index,rep_classmembers):\n",
    "    print(rep_classmembers[index])\n",
    "    \n",
    "visualizeclass([ 466,  821, 1103, 2212],rep_classmembers)    "
   ]
  },
  {
   "cell_type": "code",
   "execution_count": 258,
   "id": "b0fc90d4",
   "metadata": {},
   "outputs": [],
   "source": [
    "#Find the successful OR motifs' indecies\n",
    "ORmotifs = [[[-1., -1.,  1.],[ 1., -1.,  0.],[ 0.,  1., -1.]],\n",
    "[[-1., -1.,  1.],[1., 0., 0.],[ 0.,  0., -1.]],\n",
    "[[-1., -1.,  1.],[1., 0. ,0.],[ 0.,  1., -1.]],\n",
    "[[-1., -1.,  1.],[1., 1., 0.],[ 0., -1., -1.]],\n",
    "[[-1., -1.,  1.],[1., 1., 0.],[ 0.,  0., -1.]],\n",
    "[[-1.,  0.,  1.],[ 1., -1.,  0.],[ 0.,  0., -1.]],\n",
    "[[-1.,  0.,  1.],[ 1., -1.,  0.],[ 0.,  1., -1.]],\n",
    "[[-1.,  0.,  1.],[1., 0., 0.],[ 0., -1., -1.]],\n",
    "[[-1.,  0.,  1.],[1., 0., 0.],[ 0.,  0., -1.]],\n",
    "[[-1.,  0.,  1.],[1., 1., 0.],[ 0., -1., -1.]],\n",
    "[[-1.,  1.,  0.],[-1., -1.,  1.],[ 1.,  0., -1.]],\n",
    "[[-1.,  1.,  0.],[-1.,  0.,  1.],[ 1., -1., -1.]],\n",
    "[[-1.,  1.,  0.],[ 0., -1.,  1.],[ 0.,  0., -1.]],\n",
    "[[-1.,  1.,  0.],[ 0., -1.,  1.],[ 1.,  0., -1.]],\n",
    "[[-1.,  1.,  0.],[0., 0., 1.],[ 0., -1., -1.]],\n",
    "[[-1.,  1.,  0.],[0., 0., 1.],[ 1., -1., -1.]],\n",
    "[[-1.,  1.,  0.],[ 1., -1.,  1.],[-1.,  0., -1.]],\n",
    "[[-1.,  1.,  0.],[ 1., -1.,  1.],[ 0.,  0., -1.]],\n",
    "[[-1.,  1.,  0.],[1., 0., 1.],[-1., -1., -1.]],\n",
    "[[-1.,  1.,  0.],[1., 0., 1.],[ 0., -1., -1.]],\n",
    "[[-1.,  1.,  1.],[ 1., -1.,  0.],[ 0., -1., -1.]],\n",
    "[[-1.,  1.,  1.],[ 1., -1.,  0.],[ 0.,  0., -1.]],\n",
    "[[-1.,  1.,  1.],[1., 0., 0.],[ 0., -1., -1.]],\n",
    "[[ 0., -1.,  1.],[ 1., -1.,  0.],[-1.,  1., -1.]],\n",
    "[[ 0., -1.,  1.],[1. ,0., 0.],[-1.,  0., -1.]],\n",
    "[[ 0., -1.,  1.],[1. ,0., 0.],[-1.,  1., -1.]],\n",
    "[[ 0., -1.,  1.],[1. ,1., 0.],[-1., -1., -1.]],\n",
    "[[ 0., -1.,  1.],[1. ,1., 0.],[-1.,  0., -1.]],\n",
    "[[0. ,0., 1.],[ 1., -1.,  0.],[-1.,  0., -1.]],\n",
    "[[0. ,0., 1.],[ 1., -1.,  0.],[-1.,  1., -1.]],\n",
    "[[0. ,0., 1.],[1., 0., 0.],[-1., -1., -1.]],\n",
    "[[0. ,0., 1.],[1., 0., 0.],[-1.,  0., -1.]],\n",
    "[[0. ,0., 1.],[1., 1., 0.],[-1., -1., -1.]],\n",
    "[[0. ,1., 0.],[-1., -1.,  1.],[ 0.,  0., -1.]],\n",
    "[[0. ,1., 0.],[-1., -1.,  1.],[ 1.,  0., -1.]],\n",
    "[[0. ,1., 0.],[-1.,  0.,  1.],[ 0., -1., -1.]],\n",
    "[[0. ,1., 0.],[-1.,  0.,  1.],[ 1., -1., -1.]],\n",
    "[[0. ,1., 0.],[ 0., -1.,  1.],[-1.,  0., -1.]],\n",
    "[[0. ,1., 0.],[ 0., -1.,  1.],[ 0.,  0., -1.]],\n",
    "[[0. ,1., 0.],[0., 0., 1.],[-1., -1., -1.]],\n",
    "[[0. ,1., 0.],[0., 0., 1.],[ 0., -1., -1.]],\n",
    "[[0. ,1., 0.],[ 1., -1.,  1.],[-1.,  0., -1.]],\n",
    "[[0. ,1., 0.],[1. ,0., 1.],[-1., -1., -1.]],\n",
    "[[0. ,1., 1.],[ 1. ,-1.,  0.],[-1., -1., -1.]],\n",
    "[[0. ,1., 1.],[ 1. ,-1.,  0.],[-1.,  0., -1.]],\n",
    "[[0. ,1., 1.],[1. ,0., 0.],[-1., -1., -1.]],\n",
    "[[1. ,1., 0.],[-1., -1.,  1.],[-1.,  0., -1.]],\n",
    "[[1. ,1., 0.],[-1., -1.,  1.],[ 0.,  0., -1.]],\n",
    "[[1. ,1., 0.],[-1.,  0.,  1.],[-1., -1., -1.]],\n",
    "[[1. ,1., 0.],[-1.,  0.,  1.],[ 0., -1., -1.]],\n",
    "[[1. ,1., 0.],[ 0., -1.,  1.],[-1.,  0., -1.]],\n",
    "[[1. ,1., 0.],[0., 0., 1.],[-1., -1., -1.]]]\n",
    "ORmotifs = np.array(ORmotifs)\n"
   ]
  },
  {
   "cell_type": "code",
   "execution_count": 261,
   "id": "a916ed70",
   "metadata": {},
   "outputs": [],
   "source": [
    "ORmotifindecies = []\n",
    "for i in range(len(ORmotifs)):\n",
    "    ORmotifindecies.append(lookupclass(partition,ORmotifs[i]))\n",
    "    \n",
    "ORmotifindecies.sort()"
   ]
  },
  {
   "cell_type": "code",
   "execution_count": 262,
   "id": "485443b6",
   "metadata": {},
   "outputs": [
    {
     "name": "stdout",
     "output_type": "stream",
     "text": [
      "[247, 247, 286, 286, 289, 289, 316, 316, 319, 319, 633, 633, 704, 704, 707, 707, 775, 775, 778, 778, 870, 870, 871, 871, 893, 893, 894, 894, 918, 918, 1373, 1373, 1418, 1418, 1419, 1419, 1437, 1437, 1440, 1440, 1440, 1440, 1504, 1504, 1676, 1676, 1679, 1679, 1715, 1715, 2053, 2053]\n"
     ]
    }
   ],
   "source": [
    "print(ORmotifindecies)"
   ]
  },
  {
   "cell_type": "code",
   "execution_count": null,
   "id": "f2d5a2e8",
   "metadata": {},
   "outputs": [],
   "source": []
  },
  {
   "cell_type": "code",
   "execution_count": null,
   "id": "47e9dde5",
   "metadata": {},
   "outputs": [],
   "source": []
  },
  {
   "cell_type": "code",
   "execution_count": null,
   "id": "20737990",
   "metadata": {},
   "outputs": [],
   "source": []
  }
 ],
 "metadata": {
  "kernelspec": {
   "display_name": "Python 3",
   "language": "python",
   "name": "python3"
  },
  "language_info": {
   "codemirror_mode": {
    "name": "ipython",
    "version": 3
   },
   "file_extension": ".py",
   "mimetype": "text/x-python",
   "name": "python",
   "nbconvert_exporter": "python",
   "pygments_lexer": "ipython3",
   "version": "3.8.8"
  }
 },
 "nbformat": 4,
 "nbformat_minor": 5
}
